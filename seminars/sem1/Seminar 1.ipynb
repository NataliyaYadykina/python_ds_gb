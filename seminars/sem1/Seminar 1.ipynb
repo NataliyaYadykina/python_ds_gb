{
 "cells": [
  {
   "cell_type": "markdown",
   "id": "1c1c382a",
   "metadata": {},
   "source": [
    "## Задание 0"
   ]
  },
  {
   "cell_type": "markdown",
   "id": "e98233c9",
   "metadata": {},
   "source": [
    "**Я научился пользоваться MarkDown на Jupyter**"
   ]
  },
  {
   "cell_type": "markdown",
   "id": "17e17a0c",
   "metadata": {},
   "source": [
    "## Задание 1"
   ]
  },
  {
   "cell_type": "markdown",
   "id": "cfaccb3c",
   "metadata": {},
   "source": [
    "### Задание 1.1\n"
   ]
  },
  {
   "cell_type": "code",
   "execution_count": 1,
   "id": "bdefab48",
   "metadata": {},
   "outputs": [
    {
     "data": {
      "text/plain": [
       "{'One': 1, 'Two': 2, 'Three': 3, 'Four': 4, 'Five': 5, 'Six': 6}"
      ]
     },
     "execution_count": 1,
     "metadata": {},
     "output_type": "execute_result"
    }
   ],
   "source": [
    "dict1 = {'One': 1, 'Two': 2, 'Three': 3}\n",
    "dict2 = {'Four': 4, 'Five': 5, 'Six': 6}\n",
    "dict1.update(dict2)\n",
    "dict1"
   ]
  },
  {
   "cell_type": "markdown",
   "id": "e8648b01",
   "metadata": {},
   "source": [
    "### Задание 1.2"
   ]
  },
  {
   "cell_type": "code",
   "execution_count": 2,
   "id": "1820b267",
   "metadata": {
    "scrolled": true
   },
   "outputs": [
    {
     "data": {
      "text/plain": [
       "{'One': 1, 'Two': 2, 'Three': 3, 'Four': 4, 'Five': 5, 'Six': 6}"
      ]
     },
     "execution_count": 2,
     "metadata": {},
     "output_type": "execute_result"
    }
   ],
   "source": [
    "def merge_dicts(dict1: dict, dict2: dict) -> dict:\n",
    "    dict1.update(dict2)\n",
    "    return dict1\n",
    "\n",
    "\n",
    "merge_dicts(dict1, dict2)"
   ]
  },
  {
   "cell_type": "markdown",
   "id": "526994de",
   "metadata": {},
   "source": [
    "## Задание 2"
   ]
  },
  {
   "cell_type": "markdown",
   "id": "5ca5f87e",
   "metadata": {},
   "source": [
    "### Задание 2.1\n"
   ]
  },
  {
   "cell_type": "code",
   "execution_count": 5,
   "id": "a7b8c722",
   "metadata": {},
   "outputs": [
    {
     "data": {
      "text/plain": [
       "{'One': 1, 'Two': 2, 'Three': 3}"
      ]
     },
     "execution_count": 5,
     "metadata": {},
     "output_type": "execute_result"
    }
   ],
   "source": [
    "keys = ['One', 'Two', 'Three']\n",
    "values = [1, 2, 3]\n",
    "result = dict()\n",
    "# len(values) = 3\n",
    "# range(3) = 0, 1, 2\n",
    "# for i in 0, 1, 2:\n",
    "for i in range(len(values)):\n",
    "    result[keys[i]] = values[i]\n",
    "result"
   ]
  },
  {
   "cell_type": "markdown",
   "id": "8927dac6",
   "metadata": {},
   "source": [
    "### Задание 2.2\n"
   ]
  },
  {
   "cell_type": "code",
   "execution_count": 4,
   "id": "1578e33f",
   "metadata": {},
   "outputs": [
    {
     "data": {
      "text/plain": [
       "{'One': 1, 'Two': 2, 'Three': 3}"
      ]
     },
     "execution_count": 4,
     "metadata": {},
     "output_type": "execute_result"
    }
   ],
   "source": [
    "def get_dict(keys: list, values: list) -> dict:\n",
    "    return {keys[i]: values[i] for i in range(len(values))}\n",
    "\n",
    "\n",
    "get_dict(keys, values)"
   ]
  },
  {
   "cell_type": "markdown",
   "id": "bb66cfa7",
   "metadata": {},
   "source": [
    "## Задание 3"
   ]
  },
  {
   "cell_type": "markdown",
   "id": "1002885f",
   "metadata": {},
   "source": [
    "### Задание 3.1"
   ]
  },
  {
   "cell_type": "code",
   "execution_count": 7,
   "id": "9b321a86",
   "metadata": {},
   "outputs": [
    {
     "data": {
      "text/plain": [
       "{'salary': 5000, 'city': 'Moscow'}"
      ]
     },
     "execution_count": 7,
     "metadata": {},
     "output_type": "execute_result"
    }
   ],
   "source": [
    "client_dict = {\n",
    "        \"name\": \"John\",\n",
    "        \"age\": 25,\n",
    "        \"salary\": 5000,\n",
    "        \"city\": \"Moscow\"\n",
    "}\n",
    "def create_dict(client_dict: dict, keys: list=['name', 'age']) -> dict:\n",
    "    result = {}\n",
    "    # ['name', 'age']\n",
    "    for i in keys:\n",
    "        result[i] = client_dict[i]\n",
    "    return result\n",
    "\n",
    "create_dict(client_dict, ['salary', 'city'])"
   ]
  },
  {
   "cell_type": "markdown",
   "id": "0d186c3b",
   "metadata": {},
   "source": [
    "### Задание 3.2"
   ]
  },
  {
   "cell_type": "code",
   "execution_count": 8,
   "id": "7ca2ab1d",
   "metadata": {},
   "outputs": [
    {
     "data": {
      "text/plain": [
       "{'name': 'John', 'age': 25}"
      ]
     },
     "execution_count": 8,
     "metadata": {},
     "output_type": "execute_result"
    }
   ],
   "source": [
    "keys = ['name', 'age']\n",
    "new_dict = {i: client_dict[i] for i in keys}\n",
    "new_dict"
   ]
  },
  {
   "cell_type": "markdown",
   "id": "b8e1613e",
   "metadata": {},
   "source": [
    "## Задание 4"
   ]
  },
  {
   "cell_type": "markdown",
   "id": "71e6c8c2",
   "metadata": {},
   "source": [
    "### Задание 4.1"
   ]
  },
  {
   "cell_type": "code",
   "execution_count": 15,
   "id": "e1af0429",
   "metadata": {},
   "outputs": [
    {
     "name": "stdout",
     "output_type": "stream",
     "text": [
      "[29, 47, 48, 16, 24]\n"
     ]
    },
    {
     "data": {
      "text/plain": [
       "[29, 47, 48, 16, 24]"
      ]
     },
     "execution_count": 15,
     "metadata": {},
     "output_type": "execute_result"
    }
   ],
   "source": [
    "import random\n",
    "\n",
    "\n",
    "random.seed(8)\n",
    "data = [random.randint(0, 101) for i in range(5)]\n",
    "print(data)\n",
    "\n",
    "random.seed(8)\n",
    "data = [random.randint(0, 101) for i in range(5)]\n",
    "data"
   ]
  },
  {
   "cell_type": "markdown",
   "id": "19c8f81c",
   "metadata": {},
   "source": [
    "### Задание 4.2"
   ]
  },
  {
   "cell_type": "code",
   "execution_count": 17,
   "id": "b22339fb",
   "metadata": {},
   "outputs": [
    {
     "name": "stdout",
     "output_type": "stream",
     "text": [
      "(0, 29)\n",
      "(2, 47)\n",
      "(2, 48)\n",
      "(2, 16)\n",
      "(2, 24)\n"
     ]
    }
   ],
   "source": [
    "import time \n",
    "\n",
    "\n",
    "def elapsed_since(data):\n",
    "    last_time = None\n",
    "    \n",
    "    for item in data:\n",
    "        current_time = time.time()\n",
    "        \n",
    "        if last_time:\n",
    "            delta = current_time - last_time\n",
    "        else:\n",
    "            delta = current_time - current_time\n",
    "        \n",
    "        last_time = time.time()\n",
    "        yield (int(delta), item)\n",
    "        \n",
    "for t in elapsed_since(data):\n",
    "    print(t)\n",
    "    time.sleep(2)\n",
    "    \n",
    "    "
   ]
  },
  {
   "cell_type": "markdown",
   "id": "20cd5451",
   "metadata": {},
   "source": [
    "## Задание 6"
   ]
  },
  {
   "cell_type": "code",
   "execution_count": 21,
   "id": "6977df7a",
   "metadata": {},
   "outputs": [
    {
     "data": {
      "text/plain": [
       "{'Общая сумма продуктов': 561, 'Среднее значение': 112.2}"
      ]
     },
     "execution_count": 21,
     "metadata": {},
     "output_type": "execute_result"
    }
   ],
   "source": [
    "def product(*args):\n",
    "    return {\"Общая сумма продуктов\": sum(args), 'Среднее значение': sum(args) / len(args)}\n",
    "\n",
    "\n",
    "product(100, 37, 56, 259, 109)"
   ]
  },
  {
   "cell_type": "code",
   "execution_count": null,
   "id": "9c05390a",
   "metadata": {},
   "outputs": [],
   "source": []
  }
 ],
 "metadata": {
  "kernelspec": {
   "display_name": "Python 3 (ipykernel)",
   "language": "python",
   "name": "python3"
  },
  "language_info": {
   "codemirror_mode": {
    "name": "ipython",
    "version": 3
   },
   "file_extension": ".py",
   "mimetype": "text/x-python",
   "name": "python",
   "nbconvert_exporter": "python",
   "pygments_lexer": "ipython3",
   "version": "3.9.12"
  }
 },
 "nbformat": 4,
 "nbformat_minor": 5
}
